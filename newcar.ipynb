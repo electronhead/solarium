{
  "cells": [
    {
      "cell_type": "markdown",
      "id": "bb7ca8ca-03c4-48e5-98e4-ab1ea8d12600",
      "metadata": {
        "id": "bb7ca8ca-03c4-48e5-98e4-ab1ea8d12600"
      },
      "source": [
        "Calculate Q for the following car lease details:\n",
        "\n",
        "Q = fair_cost/ depreciation\n",
        "fair_cost = depreciation - present value of tax benefits - present value of future reinvestment income on the depreciation\n",
        "adjusted capitalized cost = 48990\n",
        "residual value = 37257\n",
        "depreciation = adjusted capitalized cost - residual value\n",
        "21% federal tax rate\n",
        "reinvestment rate 5%\n",
        "discount rate 3%\n",
        "2-year lease\n",
        "support parametrizing MACRS years -- 5 and 7 years\n",
        "\n",
        "create a python function returning a dictionary that contains the function parameters as well as fair_cost, the two present value results, and the MACRS rates used"
      ]
    },
    {
      "cell_type": "code",
      "execution_count": 44,
      "id": "d0ebceae-cc95-4d4b-bfd8-74b742c8b39b",
      "metadata": {
        "id": "d0ebceae-cc95-4d4b-bfd8-74b742c8b39b"
      },
      "outputs": [],
      "source": [
        "import pprint"
      ]
    },
    {
      "cell_type": "code",
      "execution_count": 45,
      "id": "1ed8e8eb-e949-4a77-8c49-54fa3d7803bb",
      "metadata": {
        "id": "1ed8e8eb-e949-4a77-8c49-54fa3d7803bb"
      },
      "outputs": [],
      "source": [
        "# claude\n",
        "\n",
        "def calculate_lease_q_factor(adjusted_cap_cost, residual_value, property_class,\n",
        "                           tax_rate, reinvestment_rate, discount_rate, lease_term):\n",
        "    \"\"\"\n",
        "    Calculate Q factor using standard MACRS percentages applied to total depreciation\n",
        "\n",
        "    Parameters:\n",
        "    adjusted_cap_cost (float): Adjusted capitalized cost\n",
        "    residual_value (float): Residual value at end of lease\n",
        "    property_class (int): MACRS property class (5 or 7 years)\n",
        "    tax_rate (float): Corporate tax rate (as decimal)\n",
        "    reinvestment_rate (float): Rate at which depreciation can be reinvested (as decimal)\n",
        "    discount_rate (float): Rate used for present value calculations (as decimal)\n",
        "    lease_term (int): Lease term in years\n",
        "\n",
        "    Returns:\n",
        "    dict: Calculated Q factor and supporting details\n",
        "    \"\"\"\n",
        "    # Total depreciation over lease period\n",
        "    total_depreciation = adjusted_cap_cost - residual_value\n",
        "\n",
        "    # Standard MACRS rates for 5 and 7 year property\n",
        "    macrs_rates = {\n",
        "        5: [0.20, 0.32, 0.192, 0.115, 0.115, 0.058],  # 5-year property\n",
        "        7: [0.142, 0.249, 0.178, 0.127, 0.091, 0.091, 0.091, 0.031]  # 7-year property\n",
        "    }\n",
        "\n",
        "    if property_class not in macrs_rates:\n",
        "        raise ValueError(f\"Unsupported property class: {property_class}\")\n",
        "\n",
        "    # Get rates for the lease term\n",
        "    lease_rates = macrs_rates[property_class][:lease_term]\n",
        "\n",
        "    # Calculate annual depreciation amounts based on MACRS percentages\n",
        "    annual_depreciation = [total_depreciation * rate for rate in lease_rates]\n",
        "\n",
        "    # Calculate present value of tax benefits\n",
        "    tax_benefits = []\n",
        "    for year, dep_amount in enumerate(annual_depreciation):\n",
        "        year_tax_benefit = dep_amount * tax_rate\n",
        "        pv_factor = 1 / ((1 + discount_rate) ** (year + 1))\n",
        "        present_value = year_tax_benefit * pv_factor\n",
        "        tax_benefits.append(present_value)\n",
        "\n",
        "    pv_tax_benefits = sum(tax_benefits)\n",
        "\n",
        "    # Calculate present value of future reinvestment income\n",
        "    # Assuming total depreciation is available at t=0 for reinvestment\n",
        "    future_value = total_depreciation * ((1 + reinvestment_rate) ** lease_term - 1)\n",
        "    pv_reinvestment = future_value / ((1 + discount_rate) ** lease_term)\n",
        "\n",
        "    # Calculate Q\n",
        "    fair_cost = total_depreciation - pv_tax_benefits - pv_reinvestment\n",
        "    Q = fair_cost / total_depreciation\n",
        "\n",
        "    return {\n",
        "        'total_depreciation': total_depreciation,\n",
        "        'annual_depreciation': annual_depreciation,\n",
        "        'macrs_rates': lease_rates,\n",
        "        'pv_tax_benefits': pv_tax_benefits,\n",
        "        'pv_reinvestment': pv_reinvestment,\n",
        "        'fair_cost': fair_cost,\n",
        "        'Q_factor': Q,\n",
        "        'detailed_data': {\n",
        "            'year': list(range(1, lease_term + 1)),\n",
        "            'depreciation': annual_depreciation,\n",
        "            'tax_benefit': [dep * tax_rate for dep in annual_depreciation],\n",
        "            'pv_tax_benefit': tax_benefits\n",
        "        }\n",
        "    }"
      ]
    },
    {
      "cell_type": "code",
      "execution_count": 46,
      "id": "f9ea1c8a-4c74-4430-a0f2-96a8e18d7d6b",
      "metadata": {
        "colab": {
          "base_uri": "https://localhost:8080/"
        },
        "id": "f9ea1c8a-4c74-4430-a0f2-96a8e18d7d6b",
        "outputId": "0b595f23-6d4d-429e-eb12-d5d4a29bf282"
      },
      "outputs": [
        {
          "output_type": "stream",
          "name": "stdout",
          "text": [
            "{'Q_factor': 0.7992647751908757,\n",
            " 'annual_depreciation': [2346.6, 3754.56],\n",
            " 'detailed_data': {'depreciation': [2346.6, 3754.56],\n",
            "                   'pv_tax_benefit': [478.4330097087378, 743.196908285418],\n",
            "                   'tax_benefit': [492.78599999999994, 788.4576],\n",
            "                   'year': [1, 2]},\n",
            " 'fair_cost': 9377.773607314544,\n",
            " 'macrs_rates': [0.2, 0.32],\n",
            " 'pv_reinvestment': 1133.5964746913003,\n",
            " 'pv_tax_benefits': 1221.6299179941557,\n",
            " 'total_depreciation': 11733}\n"
          ]
        }
      ],
      "source": [
        "result = calculate_lease_q_factor(\n",
        "    adjusted_cap_cost=48990,\n",
        "    residual_value=37257,\n",
        "    property_class=5,\n",
        "    tax_rate=0.21,\n",
        "    reinvestment_rate=0.05,\n",
        "    discount_rate=0.03,\n",
        "    lease_term=2\n",
        ")\n",
        "\n",
        "pprint.pprint(result)"
      ]
    },
    {
      "cell_type": "code",
      "execution_count": 47,
      "id": "0dadcccc-30d9-4907-9e5b-40d84825b0ed",
      "metadata": {
        "id": "0dadcccc-30d9-4907-9e5b-40d84825b0ed"
      },
      "outputs": [],
      "source": [
        "#deepseek\n",
        "\n",
        "def calculate_q(\n",
        "    adjusted_capitalized_cost,\n",
        "    residual_value,\n",
        "    tax_rate,\n",
        "    reinvestment_rate,\n",
        "    discount_rate,\n",
        "    lease_term,\n",
        "    macrs_years\n",
        "):\n",
        "    \"\"\"\n",
        "    Calculate Q for a car lease based on the specified parameters.\n",
        "\n",
        "    Parameters:\n",
        "        adjusted_capitalized_cost (float): Adjusted capitalized cost of the car.\n",
        "        residual_value (float): Residual value of the car at the end of the lease.\n",
        "        tax_rate (float): Federal tax rate (e.g., 0.21 for 21%).\n",
        "        reinvestment_rate (float): Reinvestment rate for depreciation (e.g., 0.05 for 5%).\n",
        "        discount_rate (float): Discount rate for present value calculations (e.g., 0.03 for 3%).\n",
        "        lease_term (int): Lease term in years.\n",
        "        macrs_years (int): MACRS schedule (5 or 7 years).\n",
        "\n",
        "    Returns:\n",
        "        float: The calculated Q value.\n",
        "    \"\"\"\n",
        "    # MACRS percentages for 5-year and 7-year schedules\n",
        "    macrs_schedules = {\n",
        "        5: [0.20, 0.32, 0.192, 0.1152, 0.1152, 0.0576],  # 5-year MACRS\n",
        "        7: [0.1429, 0.2449, 0.1749, 0.1249, 0.0893, 0.0893, 0.0893, 0.0446]  # 7-year MACRS\n",
        "    }\n",
        "\n",
        "    # Validate MACRS years\n",
        "    if macrs_years not in macrs_schedules:\n",
        "        raise ValueError(\"MACRS years must be 5 or 7.\")\n",
        "\n",
        "    # Get MACRS percentages for the lease term\n",
        "    macrs_percentages = macrs_schedules[macrs_years][:lease_term]\n",
        "\n",
        "    # Step 1: Calculate Depreciation\n",
        "    depreciation = adjusted_capitalized_cost - residual_value\n",
        "    print(f\"Depreciation: {depreciation}\")\n",
        "\n",
        "    # Step 2: Calculate Present Value of Tax Benefits\n",
        "    pv_tax_benefits = 0\n",
        "    for t in range(1, lease_term + 1):\n",
        "        tax_benefit = depreciation * macrs_percentages[t - 1] * tax_rate\n",
        "        pv_tax_benefits += tax_benefit / ((1 + discount_rate) ** t)\n",
        "    print(f\"Present Value of Tax Benefits: {pv_tax_benefits}\")\n",
        "\n",
        "    # Step 3: Calculate Future Reinvestment Income\n",
        "    future_value = depreciation * (1 + reinvestment_rate) ** lease_term\n",
        "    reinvestment_income = future_value - depreciation\n",
        "    pv_reinvestment_income = reinvestment_income / ((1 + discount_rate) ** lease_term)\n",
        "    print(f\"Present Value of Reinvestment Income: {pv_reinvestment_income}\")\n",
        "\n",
        "    # Step 4: Calculate Q\n",
        "    fair_cost = depreciation - pv_tax_benefits - pv_reinvestment_income\n",
        "    Q = fair_cost / depreciation\n",
        "\n",
        "    result = {\n",
        "        'total_depreciation': depreciation,\n",
        "        'macrs_rates': macrs_percentages,\n",
        "        'pv_tax_benefits': pv_tax_benefits,\n",
        "        'pv_reinvestment': pv_reinvestment_income,\n",
        "        'fair_cost': fair_cost,\n",
        "        'Q_factor': Q\n",
        "    }\n",
        "    return result\n"
      ]
    },
    {
      "cell_type": "code",
      "execution_count": 48,
      "id": "c0c3367f-4873-409b-92f4-a06de6585e9a",
      "metadata": {
        "colab": {
          "base_uri": "https://localhost:8080/"
        },
        "id": "c0c3367f-4873-409b-92f4-a06de6585e9a",
        "outputId": "c74415dc-81e8-4c0b-c8b1-5ac7cd2887d4"
      },
      "outputs": [
        {
          "output_type": "stream",
          "name": "stdout",
          "text": [
            "Depreciation: 11733\n",
            "Present Value of Tax Benefits: 1221.6299179941557\n",
            "Present Value of Reinvestment Income: 1133.5964746912996\n",
            "(\"results: {'total_depreciation': 11733, 'macrs_rates': [0.2, 0.32], \"\n",
            " \"'pv_tax_benefits': 1221.6299179941557, 'pv_reinvestment': \"\n",
            " \"1133.5964746912996, 'fair_cost': 9377.773607314544, 'Q_factor': \"\n",
            " '0.7992647751908757}')\n"
          ]
        }
      ],
      "source": [
        "# Execute the function with the supplied parameters\n",
        "q_value = calculate_q(\n",
        "    adjusted_capitalized_cost=48990,\n",
        "    residual_value=37257,\n",
        "    tax_rate=0.21,\n",
        "    reinvestment_rate=0.05,\n",
        "    discount_rate=0.03,\n",
        "    lease_term=2,\n",
        "    macrs_years=5\n",
        ")\n",
        "\n",
        "pprint.pprint(f\"results: {q_value}\")"
      ]
    },
    {
      "cell_type": "code",
      "execution_count": 49,
      "id": "fdb50371-a8a2-4744-b509-bf9b8e4522f0",
      "metadata": {
        "id": "fdb50371-a8a2-4744-b509-bf9b8e4522f0"
      },
      "outputs": [],
      "source": [
        "# chatgpt\n",
        "\n",
        "import numpy as np\n",
        "import pprint\n",
        "\n",
        "def calculate_q_factor(adjusted_capitalized_cost, residual_value, tax_rate, discount_rate, reinvestment_rate, lease_term, macrs_years):\n",
        "    \"\"\"\n",
        "    Calculate the Q-factor for a car lease based on given parameters.\n",
        "\n",
        "    Parameters:\n",
        "        adjusted_capitalized_cost (float): Adjusted capitalized cost of the lease.\n",
        "        residual_value (float): Residual value of the vehicle at lease end.\n",
        "        tax_rate (float): Federal tax rate (as a decimal).\n",
        "        discount_rate (float): Discount rate used for present value calculations (as a decimal).\n",
        "        reinvestment_rate (float): Rate of return on reinvested depreciation (as a decimal).\n",
        "        lease_term (int): Lease duration in years.\n",
        "        macrs_years (int): Number of years for MACRS depreciation (either 5 or 7).\n",
        "\n",
        "    Returns:\n",
        "        dict: A dictionary containing Q-factor, fair cost, depreciation, tax benefits, reinvestment interest, and MACRS years.\n",
        "    \"\"\"\n",
        "\n",
        "    # Calculate depreciation\n",
        "    depreciation = adjusted_capitalized_cost - residual_value\n",
        "\n",
        "    # MACRS depreciation schedules\n",
        "    macrs_schedules = {\n",
        "        5: np.array([0.20, 0.32, 0.192, 0.1152, 0.1152, 0.0576]),\n",
        "        7: np.array([0.1429, 0.2449, 0.1749, 0.1249, 0.0893, 0.0892, 0.0893, 0.0446])\n",
        "    }\n",
        "\n",
        "    if macrs_years not in macrs_schedules:\n",
        "        raise ValueError(\"MACRS years must be either 5 or 7.\")\n",
        "\n",
        "    macrs_schedule = macrs_schedules[macrs_years]\n",
        "\n",
        "    # Compute PV of tax benefits (ONLY for the lease term)\n",
        "    pv_tax_benefits = sum((tax_rate * depreciation * pct) / ((1 + discount_rate) ** (i + 1)) for i, pct in enumerate(macrs_schedule[:lease_term]))\n",
        "\n",
        "    # Compute PV of reinvestment interest\n",
        "    future_value = depreciation * ((1 + reinvestment_rate) ** lease_term)\n",
        "    pv_reinvestment_interest = (future_value - depreciation) / ((1 + discount_rate) ** lease_term)\n",
        "\n",
        "    # Compute fair cost\n",
        "    fair_cost = depreciation - pv_tax_benefits - pv_reinvestment_interest\n",
        "\n",
        "    # Compute Q-factor\n",
        "    Q = fair_cost / depreciation\n",
        "\n",
        "    # Prepare results in a dictionary\n",
        "    result = {\n",
        "        \"Q_factor\": Q,\n",
        "        \"fair_cost\": fair_cost,\n",
        "        \"depreciation\": depreciation,\n",
        "        \"pv_tax_benefits\": pv_tax_benefits,\n",
        "        \"pv_reinvestment_interest\": pv_reinvestment_interest,\n",
        "        \"macrs_years\": macrs_years  # Add MACRS years to the output\n",
        "    }\n",
        "\n",
        "    # Pretty-print the dictionary\n",
        "    pprint.pprint(result)\n",
        "\n",
        "    return result\n"
      ]
    },
    {
      "cell_type": "code",
      "execution_count": 50,
      "id": "f3fb7e9a-fdb5-434c-b33c-6fa1fa42dc2a",
      "metadata": {
        "colab": {
          "base_uri": "https://localhost:8080/"
        },
        "id": "f3fb7e9a-fdb5-434c-b33c-6fa1fa42dc2a",
        "outputId": "7392ffa3-62e2-4d61-bfca-c1329bc03d1d"
      },
      "outputs": [
        {
          "output_type": "stream",
          "name": "stdout",
          "text": [
            "{'Q_factor': 0.7992647751908757,\n",
            " 'depreciation': 11733,\n",
            " 'fair_cost': 9377.773607314544,\n",
            " 'macrs_years': 5,\n",
            " 'pv_reinvestment_interest': 1133.5964746912996,\n",
            " 'pv_tax_benefits': 1221.629917994156}\n",
            "{'Q_factor': 0.8257722028466397,\n",
            " 'depreciation': 11733,\n",
            " 'fair_cost': 9688.785255999623,\n",
            " 'macrs_years': 7,\n",
            " 'pv_reinvestment_interest': 1133.5964746912996,\n",
            " 'pv_tax_benefits': 910.618269309077}\n"
          ]
        }
      ],
      "source": [
        "results_5yr = calculate_q_factor(\n",
        "    adjusted_capitalized_cost=48990,\n",
        "    residual_value=37257,\n",
        "    tax_rate=0.21,\n",
        "    discount_rate=0.03,\n",
        "    reinvestment_rate=0.05,\n",
        "    lease_term=2,\n",
        "    macrs_years=5\n",
        ")\n",
        "\n",
        "results_7yr = calculate_q_factor(\n",
        "    adjusted_capitalized_cost=48990,\n",
        "    residual_value=37257,\n",
        "    tax_rate=0.21,\n",
        "    discount_rate=0.03,\n",
        "    reinvestment_rate=0.05,\n",
        "    lease_term=2,\n",
        "    macrs_years=7\n",
        ")\n"
      ]
    },
    {
      "cell_type": "code",
      "source": [
        "!pip install numpy-financial"
      ],
      "metadata": {
        "id": "X8XgwF3FfW3V",
        "outputId": "66e0970c-84d1-4289-f0f4-e5bdaf1bd990",
        "colab": {
          "base_uri": "https://localhost:8080/"
        }
      },
      "id": "X8XgwF3FfW3V",
      "execution_count": 51,
      "outputs": [
        {
          "output_type": "stream",
          "name": "stdout",
          "text": [
            "Requirement already satisfied: numpy-financial in /usr/local/lib/python3.11/dist-packages (1.0.0)\n",
            "Requirement already satisfied: numpy>=1.15 in /usr/local/lib/python3.11/dist-packages (from numpy-financial) (1.26.4)\n"
          ]
        }
      ]
    },
    {
      "cell_type": "code",
      "source": [
        "# gemini\n",
        "\n",
        "import numpy_financial as npf\n",
        "\n",
        "def calculate_lease_q(adjusted_capitalized_cost, residual_value, tax_rate, reinvestment_rate, discount_rate, lease_term, macrs_years):\n",
        "    \"\"\"Calculates the Q factor for a car lease.\"\"\"\n",
        "\n",
        "    depreciation = adjusted_capitalized_cost - residual_value\n",
        "\n",
        "    if macrs_years == 5:\n",
        "        macrs_rates = [0.20, 0.32, 0.192, 0.1152, 0.1152, 0.0576]\n",
        "    elif macrs_years == 7:\n",
        "        macrs_rates = [0.1429, 0.2449, 0.1749, 0.1249, 0.0893, 0.0892, 0.0893, 0.0446]\n",
        "    else:\n",
        "        raise ValueError(\"Invalid MACRS years. Choose 5 or 7.\")\n",
        "\n",
        "    # Calculate present value of tax benefits using npf.pv\n",
        "    tax_benefits = []\n",
        "    for i in range(lease_term):\n",
        "        depreciation_amount = depreciation * macrs_rates[i] if i < len(macrs_rates) else 0\n",
        "        tax_benefits.append(depreciation_amount * tax_rate)\n",
        "\n",
        "    pv_tax_benefits = -npf.pv(discount_rate, range(1, lease_term + 1), 0, tax_benefits)  # Note the negative sign and handling of periods\n",
        "\n",
        "    # Calculate present value of future reinvestment income using npf.pv\n",
        "    reinvestment_income = []\n",
        "    for i in range(lease_term):\n",
        "        depreciation_amount = depreciation * macrs_rates[i] if i < len(macrs_rates) else 0\n",
        "        reinvestment_income.append(depreciation_amount * tax_rate * reinvestment_rate)\n",
        "\n",
        "    pv_reinvestment_income = -npf.pv(discount_rate, range(1, lease_term + 1), 0, reinvestment_income)  # Note the negative sign and handling of periods\n",
        "\n",
        "\n",
        "    fair_cost = depreciation - pv_tax_benefits - pv_reinvestment_income\n",
        "    Q = fair_cost / depreciation if depreciation != 0 else 0\n",
        "\n",
        "    results = {\n",
        "        \"adjusted_capitalized_cost\": adjusted_capitalized_cost,\n",
        "        \"residual_value\": residual_value,\n",
        "        \"tax_rate\": tax_rate,\n",
        "        \"reinvestment_rate\": reinvestment_rate,\n",
        "        \"discount_rate\": discount_rate,\n",
        "        \"lease_term\": lease_term,\n",
        "        \"macrs_years\": macrs_years,\n",
        "        \"macrs_rates\": macrs_rates,\n",
        "        \"depreciation\": depreciation,\n",
        "        \"pv_tax_benefits\": pv_tax_benefits,\n",
        "        \"pv_reinvestment_income\": pv_reinvestment_income,\n",
        "        \"fair_cost\": fair_cost,\n",
        "        \"Q\": Q\n",
        "    }\n",
        "\n",
        "    return results"
      ],
      "metadata": {
        "id": "vXdraN-IebM7"
      },
      "id": "vXdraN-IebM7",
      "execution_count": 52,
      "outputs": []
    },
    {
      "cell_type": "code",
      "source": [
        "# Example usage:\n",
        "import pprint\n",
        "lease_details = calculate_lease_q(\n",
        "    adjusted_capitalized_cost=48990,\n",
        "    residual_value=37257,\n",
        "    tax_rate=0.21,\n",
        "    reinvestment_rate=0.05,\n",
        "    discount_rate=0.03,\n",
        "    lease_term=2,\n",
        "    macrs_years=5\n",
        ")\n",
        "\n",
        "pprint.pprint(lease_details)\n",
        "\n",
        "lease_details_7 = calculate_lease_q(\n",
        "    adjusted_capitalized_cost=48990,\n",
        "    residual_value=37257,\n",
        "    tax_rate=0.21,\n",
        "    reinvestment_rate=0.05,\n",
        "    discount_rate=0.03,\n",
        "    lease_term=2,\n",
        "    macrs_years=7\n",
        ")\n",
        "\n",
        "pprint.pprint(lease_details_7)"
      ],
      "metadata": {
        "id": "7M2jLkvVekoU",
        "outputId": "cf9c93ff-8989-496e-e486-ce3ed03166e1",
        "colab": {
          "base_uri": "https://localhost:8080/"
        }
      },
      "id": "7M2jLkvVekoU",
      "execution_count": 53,
      "outputs": [
        {
          "output_type": "stream",
          "name": "stdout",
          "text": [
            "{'Q': array([0.95718447, 0.93349043]),\n",
            " 'adjusted_capitalized_cost': 48990,\n",
            " 'depreciation': 11733,\n",
            " 'discount_rate': 0.03,\n",
            " 'fair_cost': array([11230.64533981, 10952.6432463 ]),\n",
            " 'lease_term': 2,\n",
            " 'macrs_rates': [0.2, 0.32, 0.192, 0.1152, 0.1152, 0.0576],\n",
            " 'macrs_years': 5,\n",
            " 'pv_reinvestment_income': array([23.92165049, 37.15984541]),\n",
            " 'pv_tax_benefits': array([478.43300971, 743.19690829]),\n",
            " 'reinvestment_rate': 0.05,\n",
            " 'residual_value': 37257,\n",
            " 'tax_rate': 0.21}\n",
            "{'Q': array([0.9694083, 0.9490994]),\n",
            " 'adjusted_capitalized_cost': 48990,\n",
            " 'depreciation': 11733,\n",
            " 'discount_rate': 0.03,\n",
            " 'fair_cost': array([11374.06759529, 11135.78322193]),\n",
            " 'lease_term': 2,\n",
            " 'macrs_rates': [0.1429,\n",
            "                 0.2449,\n",
            "                 0.1749,\n",
            "                 0.1249,\n",
            "                 0.0893,\n",
            "                 0.0892,\n",
            "                 0.0893,\n",
            "                 0.0446],\n",
            " 'macrs_years': 7,\n",
            " 'pv_reinvestment_income': array([17.09201927, 28.43889419]),\n",
            " 'pv_tax_benefits': array([341.84038544, 568.77788387]),\n",
            " 'reinvestment_rate': 0.05,\n",
            " 'residual_value': 37257,\n",
            " 'tax_rate': 0.21}\n"
          ]
        }
      ]
    }
  ],
  "metadata": {
    "kernelspec": {
      "display_name": "Python 3 (ipykernel)",
      "language": "python",
      "name": "python3"
    },
    "language_info": {
      "codemirror_mode": {
        "name": "ipython",
        "version": 3
      },
      "file_extension": ".py",
      "mimetype": "text/x-python",
      "name": "python",
      "nbconvert_exporter": "python",
      "pygments_lexer": "ipython3",
      "version": "3.9.0"
    },
    "colab": {
      "provenance": []
    }
  },
  "nbformat": 4,
  "nbformat_minor": 5
}