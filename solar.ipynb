{
 "metadata": {
  "language_info": {
   "codemirror_mode": {
    "name": "ipython",
    "version": 3
   },
   "file_extension": ".py",
   "mimetype": "text/x-python",
   "name": "python",
   "nbconvert_exporter": "python",
   "pygments_lexer": "ipython3",
   "version": "3.9.0"
  },
  "orig_nbformat": 2,
  "kernelspec": {
   "name": "pythonjvsc74a57bd05805e5439efdd5ed440110b1344968018dad9695b006f320f38bc1049a02c08a",
   "display_name": "Python 3.9.0 64-bit ('venv': venv)"
  },
  "metadata": {
   "interpreter": {
    "hash": "5805e5439efdd5ed440110b1344968018dad9695b006f320f38bc1049a02c08a"
   }
  }
 },
 "nbformat": 4,
 "nbformat_minor": 2,
 "cells": [
  {
   "source": [
    "# pip install pandas\n",
    "# pip install geopy\n",
    "# pip install pyephem\n",
    "# pip install matplotlib"
   ],
   "cell_type": "markdown",
   "metadata": {}
  },
  {
   "cell_type": "code",
   "execution_count": null,
   "metadata": {},
   "outputs": [],
   "source": [
    "from datetime import date, time, datetime, timedelta\n",
    "import pandas as pd\n",
    "import enphase as e\n",
    "import matplotlib.pyplot as pyplot\n",
    "import numpy as np\n",
    "import pprint"
   ]
  },
  {
   "cell_type": "code",
   "execution_count": null,
   "metadata": {},
   "outputs": [],
   "source": [
    "#e.print_environ()\n",
    "pp = pprint.PrettyPrinter(indent=4)\n",
    "a_few_days_ago = e.today() - timedelta(days=3)\n",
    "not_long_ago = e.today() - timedelta(days=31)"
   ]
  },
  {
   "cell_type": "code",
   "execution_count": null,
   "metadata": {},
   "outputs": [],
   "source": [
    "e.save_to_files(complete_days=False, start_date=a_few_days_ago)"
   ]
  },
  {
   "cell_type": "code",
   "execution_count": null,
   "metadata": {},
   "outputs": [],
   "source": [
    "data = e.compute_data_frame()\n",
    "e.augment_data_frame(data)\n",
    "data_copy = data.copy()\n",
    "# data15 = e.compute_data_frame(increment=15)\n",
    "# data30 = e.compute_data_frame(increment=30)\n",
    "data60 = e.compute_data_frame(increment=60)"
   ]
  },
  {
   "cell_type": "code",
   "execution_count": null,
   "metadata": {},
   "outputs": [],
   "source": [
    "def slap(arg):\n",
    "    print_glee = lambda glee: print(glee, '\\n')\n",
    "    if flea == 0: # PIVOT FORWARD WATT HOURS BY DATE AND TIME\n",
    "        glee = e.pivot_by_date_time(data60, values=e.f, start_date=not_long_ago, stop_date=e.today(), start_time=time(8,0,0), stop_time=time(21,0,0))\n",
    "        print_glee(glee)\n",
    "    elif flea == 1: # PIVOT BACKWARD WATT HOURS BY DATE AND TIME\n",
    "        glee = e.pivot_by_date_time(data60, values=e.b, start_date=not_long_ago, stop_date=e.today(), start_time=time(8,0,0), stop_time=time(21,0,0))\n",
    "        print_glee(glee)\n",
    "    elif flea == 2: # STATS\n",
    "        glee = e.stats_by_time(data, column=e.wh, start_date=e.online_date(), stop_date=e.today())\n",
    "        glee.plot(figsize=(15,8),grid=True)\n",
    "    elif flea == 3: # SUM BY TIME AND PLOT\n",
    "        glee = data[[e.d,e.wh]].groupby([e.d]).sum()\n",
    "        glee.plot(figsize=(15,8),grid=True)\n",
    "    elif flea == 4: # SUM RECENT WATT HOURS\n",
    "        wh = e.by_date(data[[e.d,e.wh]], e.bom(), e.today())\n",
    "        grouped = wh.groupby([e.d]).sum()\n",
    "        print_glee(grouped)\n",
    "        print_glee(grouped[e.wh].agg([len,np.sum,np.min,np.mean,np.max]).apply(lambda x: int(x)))\n",
    "    elif flea == 10: # SUM RECENT WATT HOURS minus ONE YEAR\n",
    "        wh = e.by_date(data[[e.d,e.wh]], e.bom()-timedelta(days=365), e.today()-timedelta(days=365))\n",
    "        grouped = wh.groupby([e.d]).sum()\n",
    "        print_glee(grouped)\n",
    "        print_glee(grouped[e.wh].agg([len,np.sum,np.min,np.mean,np.max]).apply(lambda x: int(x)))\n",
    "    elif flea == 5: # PLOT YESTERDAY'S WATT HOURS\n",
    "        glee = e.by_date(data, e.yesterday(), e.yesterday())[[e.t,e.wh]]\n",
    "        glee.plot(x=\"time\",figsize=(15,8),grid=True)\n",
    "    elif flea == 6: # PLOT TODAY'S WATT HOURS\n",
    "        glee = e.by_date(data, e.today(), e.today())[[e.t,e.wh]]\n",
    "        glee.plot(x=\"time\",figsize=(15,8),grid=True)\n",
    "    elif flea == 7: # YESTERDAY'S RAW STATS\n",
    "        pp.pprint(e.request_stats(e.yesterday()).json())\n",
    "    elif flea == 8: # TODAY'S RAW STATS\n",
    "        pp.pprint(e.request_stats(e.today()).json())\n",
    "    elif flea == 9: # SUM OF PGE WATT HOURS FOR LAST TIME PERIOD\n",
    "        date1 = date(2021,4,27)\n",
    "        date2 = date(2021,5,25)\n",
    "        glee = e.by_date(data, date1, date2)[e.wh].sum()\n",
    "        print(f\"{glee/1000} kWh for prior PGE billing period ({date1} to {date2})\\n\")"
   ]
  },
  {
   "cell_type": "code",
   "execution_count": null,
   "metadata": {},
   "outputs": [],
   "source": [
    "for flea in [9, 4, 10,0,1,3]:\n",
    "# for flea in [0]:\n",
    "    print('+++++++++++++++++')\n",
    "    print('flea:', flea)\n",
    "    print('+++++++++++++++++')\n",
    "    slap(flea)"
   ]
  },
  {
   "cell_type": "code",
   "execution_count": null,
   "metadata": {},
   "outputs": [],
   "source": [
    "col = e.combined\n",
    "angle_date = date(2021,6,21)\n",
    "kwh = e.by_date(data, e.online_date(), e.today()).groupby(e.t)\n",
    "angles = e.by_date(data, angle_date, angle_date).groupby(e.t)\n",
    "kwh_maxed = kwh[e.wh].agg(np.max)\n",
    "angles_maxed = angles[col].agg(np.max)\n",
    "kwh_normalized = pd.DataFrame(kwh_maxed)/kwh_maxed.max()\n",
    "angle_normalized = pd.DataFrame(angles_maxed)/angles_maxed.max()\n",
    "normalized = kwh_normalized.join(angle_normalized, on='time')\n",
    "normalized_with_ratio = normalized.assign(ratio = lambda x: x[e.wh] / x[col])\n",
    "normalized.plot()"
   ]
  },
  {
   "cell_type": "code",
   "execution_count": null,
   "metadata": {},
   "outputs": [],
   "source": [
    "col = e.alt\n",
    "angle_date = date(2021,6,21)\n",
    "kwh = e.by_date(data, e.online_date(), e.today()).groupby(e.t)\n",
    "angles = e.by_date(data, angle_date, angle_date).groupby(e.t)\n",
    "kwh_maxed = kwh[e.wh].agg(np.max)\n",
    "angles_maxed = angles[col].agg(np.max)\n",
    "kwh_normalized = pd.DataFrame(kwh_maxed)/kwh_maxed.max()\n",
    "angle_normalized = pd.DataFrame(angles_maxed)/angles_maxed.max()\n",
    "normalized = kwh_normalized.join(angle_normalized, on='time')\n",
    "normalized_with_ratio = normalized.assign(ratio = lambda x: x[e.wh] / x[col])\n",
    "normalized.plot()"
   ]
  },
  {
   "cell_type": "code",
   "execution_count": null,
   "metadata": {},
   "outputs": [],
   "source": [
    "angle_date = date(2021,6,21)\n",
    "angles = e.by_date(data, angle_date, angle_date)\n",
    "angles[[e.t, e.alt, e.south, e.west, e.combined]].plot(x=e.t)"
   ]
  },
  {
   "cell_type": "code",
   "execution_count": null,
   "metadata": {},
   "outputs": [],
   "source": [
    "wh = pd.DataFrame(data.groupby(e.t)[e.wh].max(), columns=[e.wh])\n",
    "angles = pd.DataFrame(e.by_date(data, date(2020,6,21), date(2020,6,21)).groupby(e.t)[e.combined].max(), columns=[e.combined])\n",
    "joined = wh.join(angles, on=e.t)\n",
    "joined.assign(factor=lambda x: x[e.wh] / x[e.combined])\n",
    "print(wh)\n",
    "print(angles)\n",
    "print(joined.head(60))"
   ]
  },
  {
   "cell_type": "code",
   "execution_count": null,
   "metadata": {},
   "outputs": [],
   "source": [
    "angle_date = date(2020,6,21)\n",
    "angles_sum = e.by_date(data, angle_date, angle_date)[[e.combined]].sum()\n",
    "print(angles_sum)"
   ]
  },
  {
   "cell_type": "code",
   "execution_count": null,
   "metadata": {},
   "outputs": [],
   "source": [
    "data.groupby(e.t)[e.wh].max().sum()"
   ]
  },
  {
   "cell_type": "code",
   "execution_count": null,
   "metadata": {},
   "outputs": [],
   "source": [
    "data"
   ]
  }
 ]
}