{
 "cells": [
  {
   "cell_type": "markdown",
   "metadata": {},
   "source": [
    "A Surface represents the surface area of a solar panel. It has a slope and rotation relative clockwise to 0 degrees N.\n",
    "\n",
    "A Location represents a physical location, with properties including 1) email address (for Nominatim access), physical location (e.g. - Snapolini, California; 123 N. Main Street, Fleemox, FL), elevation.\n",
    "\n",
    "A Configuration combines a Location with a collection of Surfaces at that Location."
   ]
  },
  {
   "cell_type": "code",
   "execution_count": 17,
   "metadata": {},
   "outputs": [
    {
     "name": "stdout",
     "output_type": "stream",
     "text": [
      "<Response [200]>\n",
      "{\n",
      "  \"bar\": \"world\", \n",
      "  \"baz\": \"!\", \n",
      "  \"foo\": \"Hello\"\n",
      "}\n",
      "\n"
     ]
    }
   ],
   "source": [
    "import requests\n",
    "response = requests.get('http://192.168.0.26:5000')\n",
    "print(response)\n",
    "print(response.content.decode())"
   ]
  },
  {
   "cell_type": "code",
   "execution_count": 4,
   "metadata": {},
   "outputs": [
    {
     "ename": "NameError",
     "evalue": "name 'compute_portland_altitude_azimuth' is not defined",
     "output_type": "error",
     "traceback": [
      "\u001b[0;31m---------------------------------------------------------------------------\u001b[0m",
      "\u001b[0;31mNameError\u001b[0m                                 Traceback (most recent call last)",
      "\u001b[0;32m<ipython-input-4-1e113c94fbf5>\u001b[0m in \u001b[0;36m<module>\u001b[0;34m\u001b[0m\n\u001b[0;32m----> 1\u001b[0;31m \u001b[0maltitude\u001b[0m\u001b[0;34m,\u001b[0m \u001b[0mazimuth\u001b[0m \u001b[0;34m=\u001b[0m \u001b[0mcompute_portland_altitude_azimuth\u001b[0m\u001b[0;34m(\u001b[0m\u001b[0mdate_time\u001b[0m\u001b[0;34m)\u001b[0m\u001b[0;34m\u001b[0m\u001b[0;34m\u001b[0m\u001b[0m\n\u001b[0m\u001b[1;32m      2\u001b[0m \u001b[0mrows\u001b[0m\u001b[0;34m[\u001b[0m\u001b[0mi\u001b[0m\u001b[0;34m]\u001b[0m\u001b[0;34m.\u001b[0m\u001b[0mappend\u001b[0m\u001b[0;34m(\u001b[0m\u001b[0maltitude\u001b[0m\u001b[0;34m)\u001b[0m\u001b[0;34m\u001b[0m\u001b[0;34m\u001b[0m\u001b[0m\n\u001b[1;32m      3\u001b[0m \u001b[0mrows\u001b[0m\u001b[0;34m[\u001b[0m\u001b[0mi\u001b[0m\u001b[0;34m]\u001b[0m\u001b[0;34m.\u001b[0m\u001b[0mappend\u001b[0m\u001b[0;34m(\u001b[0m\u001b[0mazimuth\u001b[0m\u001b[0;34m)\u001b[0m\u001b[0;34m\u001b[0m\u001b[0;34m\u001b[0m\u001b[0m\n\u001b[1;32m      4\u001b[0m \u001b[0mincline\u001b[0m \u001b[0;34m=\u001b[0m \u001b[0mroof_angle\u001b[0m\u001b[0;34m(\u001b[0m\u001b[0;34m)\u001b[0m\u001b[0;34m\u001b[0m\u001b[0;34m\u001b[0m\u001b[0m\n\u001b[1;32m      5\u001b[0m \u001b[0msouth_panel_angle\u001b[0m \u001b[0;34m=\u001b[0m \u001b[0mcompute_surface_incident_angle\u001b[0m\u001b[0;34m(\u001b[0m\u001b[0maltitude\u001b[0m\u001b[0;34m,\u001b[0m \u001b[0mazimuth\u001b[0m\u001b[0;34m,\u001b[0m \u001b[0mincline\u001b[0m\u001b[0;34m,\u001b[0m \u001b[0;36m0\u001b[0m\u001b[0;34m)\u001b[0m\u001b[0;34m\u001b[0m\u001b[0;34m\u001b[0m\u001b[0m\n",
      "\u001b[0;31mNameError\u001b[0m: name 'compute_portland_altitude_azimuth' is not defined"
     ]
    }
   ],
   "source": [
    "\n",
    "    altitude, azimuth = compute_portland_altitude_azimuth(date_time)\n",
    "    rows[i].append(altitude)\n",
    "    rows[i].append(azimuth)\n",
    "    incline = roof_angle()\n",
    "    south_panel_angle = compute_surface_incident_angle(altitude, azimuth, incline, 0)\n",
    "    west_panel_angle = compute_surface_incident_angle(altitude, azimuth, incline, 90)\n",
    "    rows[i].append(south_panel_angle)\n",
    "    rows[i].append(west_panel_angle)\n",
    "    \n",
    "    \n",
    "alt = 'altitude'\n",
    "azi = 'azimuth'\n",
    "south = 'south_angle'\n",
    "west = 'west_angle'"
   ]
  },
  {
   "cell_type": "markdown",
   "metadata": {},
   "source": [
    "for each 5 minute segment\n",
    "\n",
    "max_kWh series = maximum kWh\n",
    "south_angle, west_angle, and combined_angle on solstice"
   ]
  }
 ],
 "metadata": {
  "kernelspec": {
   "display_name": "Python 3",
   "language": "python",
   "name": "python3"
  },
  "language_info": {
   "codemirror_mode": {
    "name": "ipython",
    "version": 3
   },
   "file_extension": ".py",
   "mimetype": "text/x-python",
   "name": "python",
   "nbconvert_exporter": "python",
   "pygments_lexer": "ipython3",
   "version": "3.9.0"
  }
 },
 "nbformat": 4,
 "nbformat_minor": 4
}
