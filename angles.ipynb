{
 "cells": [
  {
   "cell_type": "markdown",
   "metadata": {},
   "source": [
    "pip install matplotlib\n",
    "pip install pandas\n",
    "pip install geopy\n",
    "pip install ephem"
   ]
  },
  {
   "cell_type": "code",
   "execution_count": 1,
   "metadata": {},
   "outputs": [],
   "source": [
    "import angles as a\n",
    "from datetime import date, time, datetime, timedelta\n",
    "import pandas as pd\n",
    "import itertools"
   ]
  },
  {
   "cell_type": "code",
   "execution_count": 2,
   "metadata": {},
   "outputs": [],
   "source": [
    "o = a.observer()\n",
    "columns = ['date_time', 'date', 'time', 'altitude', 'azimuth', 'south', 'west']\n",
    "def slap(flea):\n",
    "    if flea == 1:\n",
    "        count, table = a.compute_table(o, date(2021,3,21),date(2021,9,21),time(5,0,0),time(21,0,0))\n",
    "        a.print_table(o, count, table)\n",
    "    if flea == 2:\n",
    "        args = [[34, 0, 25, 0],[68,180,25,0],[34, 90, 25, 90],[68,270,25,90],[34, 180, 25, 180],[68,0,25,180]]\n",
    "        print([a.compute_surface_incident_angle(*arg) for arg in args] == [9.0, 93.0, 9.0, 93.0, 9.0, 93.0])\n",
    "    if flea == 3:\n",
    "        angles = a.compute_angles_for_time_window(o, date(2020,6,21),date(2020,6,21),time(13,0,0),time(14,0,0),minutes=1)\n",
    "        data = pd.DataFrame(angles, columns=columns)\n",
    "        print(data.head(100))\n",
    "        print(data.size)\n",
    "    if flea == 4:\n",
    "        angles = a.compute_angles(o, datetime(2020,6,21,10), datetime(2020,6,21,14), minutes=5)\n",
    "        data = pd.DataFrame(angles, columns=columns)\n",
    "        print(data.head(100))\n",
    "    if flea == 5:\n",
    "        angles = a.compute_angles_for_time_window(o, date(2020,1,21),date(2020,1,21),time(13,0,0),time(14,0,0),minutes=1,incline=46)\n",
    "        data = pd.DataFrame(angles, columns=columns)\n",
    "        print(data[['south', 'west']].sum())\n",
    "  "
   ]
  },
  {
   "cell_type": "code",
   "execution_count": 3,
   "metadata": {
    "tags": []
   },
   "outputs": [],
   "source": [
    "for flea in []:#[1]:\n",
    "    print('+++++++++++++++++')\n",
    "    print('flea:', flea)\n",
    "    print('+++++++++++++++++')\n",
    "    slap(flea)"
   ]
  },
  {
   "cell_type": "code",
   "execution_count": 4,
   "metadata": {},
   "outputs": [],
   "source": [
    "year = a.current_year()\n",
    "d1 = a.winter_solstice(year-1)\n",
    "d2 = a.winter_solstice(year)\n",
    "t1 = time(5,20,0)\n",
    "t2 = time(21,0,0)\n",
    "minutes = 5"
   ]
  },
  {
   "cell_type": "code",
   "execution_count": 5,
   "metadata": {},
   "outputs": [
    {
     "data": {
      "text/plain": [
       "<AxesSubplot:xlabel='time'>"
      ]
     },
     "execution_count": 5,
     "metadata": {},
     "output_type": "execute_result"
    },
    {
     "data": {
      "image/png": "[encoded data removed]",
      "text/plain": [
       "<Figure size 432x288 with 1 Axes>"
      ]
     },
     "metadata": {
      "needs_background": "light"
     },
     "output_type": "display_data"
    }
   ],
   "source": [
    "angles = a.compute_angles_for_time_window(o, d1,d2,t1,t2,minutes=minutes,incline=25)\n",
    "data = pd.DataFrame(angles, columns=columns)\n",
    "data['total'] = data['south'] + .9 * data['west']\n",
    "data[['time','altitude']].plot(x='time')"
   ]
  },
  {
   "cell_type": "code",
   "execution_count": 6,
   "metadata": {},
   "outputs": [
    {
     "name": "stdout",
     "output_type": "stream",
     "text": [
      "south    2.420819e+06\n",
      "west     1.762418e+06\n",
      "total    4.006996e+06\n",
      "dtype: float64\n"
     ]
    }
   ],
   "source": [
    "angles = a.compute_angles_for_time_window(o, d1,d2,t1,t2,minutes=minutes,incline=45)\n",
    "data = pd.DataFrame(angles, columns=columns)\n",
    "data['total'] = data['south'] + .9 * data['west']\n",
    "print(data[['south', 'west', 'total']].sum())"
   ]
  },
  {
   "cell_type": "code",
   "execution_count": 7,
   "metadata": {},
   "outputs": [
    {
     "name": "stdout",
     "output_type": "stream",
     "text": [
      "south    2.837646e+06\n",
      "west     1.988996e+06\n",
      "total    4.627743e+06\n",
      "dtype: float64\n"
     ]
    }
   ],
   "source": [
    "angles = a.compute_angles_for_time_window(o, d1,d2,t1,t2,minutes=minutes,incline=65)\n",
    "data = pd.DataFrame(angles, columns=columns)\n",
    "data['total'] = data['south'] + .9 * data['west']\n",
    "print(data[['south', 'west', 'total']].sum())"
   ]
  },
  {
   "cell_type": "code",
   "execution_count": 8,
   "metadata": {},
   "outputs": [
    {
     "name": "stdout",
     "output_type": "stream",
     "text": [
      "['08-29', '06:30', 'RISE', '76°']\n",
      "['08-29', '07:47', '13°', 'E']\n",
      "['08-29', '11:10', '45°', 'SE']\n",
      "['08-29', '13:11', '54°', 'S']\n",
      "['08-29', '15:12', '45°', 'SW']\n",
      "['08-29', '18:35', '13°', 'W']\n",
      "['08-29', '19:51', 'SET', '283°']\n"
     ]
    }
   ],
   "source": [
    "dt = a.today()\n",
    "t1 = time(5,20,0)\n",
    "t2 = time(21,0,0)\n",
    "count, table = a.compute_table(o, dt, dt, t1, t2)\n",
    "assert count == 7\n",
    "for x in table:\n",
    "    print(x)"
   ]
  },
  {
   "cell_type": "code",
   "execution_count": 9,
   "metadata": {},
   "outputs": [
    {
     "name": "stdout",
     "output_type": "stream",
     "text": [
      "['03-21', '07:12', 'RISE', '89°']\n",
      "['03-21', '07:18', '1°', 'E']\n",
      "['03-21', '10:56', '35°', 'SE']\n",
      "['03-21', '13:17', '45°', 'S']\n",
      "['03-21', '15:38', '36°', 'SW']\n",
      "['03-21', '19:14', '1°', 'W']\n",
      "['03-21', '19:23', 'SET', '271°']\n"
     ]
    }
   ],
   "source": [
    "dt = a.vernal_equinox()\n",
    "t1 = time(5,20,0)\n",
    "t2 = time(21,0,0)\n",
    "count, table = a.compute_table(o, dt, dt, t1, t2)\n",
    "assert count == 7\n",
    "for x in table:\n",
    "    print(x)"
   ]
  },
  {
   "cell_type": "code",
   "execution_count": 10,
   "metadata": {},
   "outputs": [
    {
     "name": "stdout",
     "output_type": "stream",
     "text": [
      "['06-21', '05:23', 'RISE', '55°']\n",
      "['06-21', '08:52', '34°', 'E']\n",
      "['06-21', '11:48', '62°', 'SE']\n",
      "['06-21', '13:13', '68°', 'S']\n",
      "['06-21', '14:37', '62°', 'SW']\n",
      "['06-21', '17:31', '34°', 'W']\n",
      "['06-21', '21:00', 'SET', '305°']\n"
     ]
    }
   ],
   "source": [
    "dt = a.summer_solstice(a.current_year())\n",
    "t1 = time(5,20,0)\n",
    "t2 = time(21,0,0)\n",
    "count, table = a.compute_table(o, dt, dt, t1, t2)\n",
    "assert count == 7\n",
    "for x in table:\n",
    "    print(x)"
   ]
  },
  {
   "cell_type": "code",
   "execution_count": 11,
   "metadata": {},
   "outputs": [
    {
     "name": "stdout",
     "output_type": "stream",
     "text": [
      "['09-21', '06:58', 'RISE', '89°']\n",
      "['09-21', '07:04', '1°', 'E']\n",
      "['09-21', '10:42', '35°', 'SE']\n",
      "['09-21', '13:03', '45°', 'S']\n",
      "['09-21', '15:24', '35°', 'SW']\n",
      "['09-21', '19:01', '1°', 'W']\n",
      "['09-21', '19:07', 'SET', '271°']\n"
     ]
    }
   ],
   "source": [
    "dt = a.autumnal_equinox()\n",
    "t1 = time(5,20,0)\n",
    "t2 = time(21,0,0)\n",
    "count, table = a.compute_table(o, dt, dt, t1, t2)\n",
    "assert count == 7\n",
    "for x in table:\n",
    "    print(x)"
   ]
  },
  {
   "cell_type": "code",
   "execution_count": 12,
   "metadata": {},
   "outputs": [
    {
     "name": "stdout",
     "output_type": "stream",
     "text": [
      "['12-21', '05:27', '-34°', 'E']\n",
      "['12-21', '08:49', 'RISE', '124°']\n",
      "['12-21', '09:49', '8°', 'SE']\n",
      "['12-21', '13:08', '21°', 'S']\n",
      "['12-21', '16:27', '8°', 'SW']\n",
      "['12-21', '17:27', 'SET', '236°']\n",
      "['12-21', '20:49', '-34°', 'W']\n"
     ]
    }
   ],
   "source": [
    "dt = a.winter_solstice(a.current_year())\n",
    "t1 = time(5,20,0)\n",
    "t2 = time(21,0,0)\n",
    "count, table = a.compute_table(o, dt, dt, t1, t2)\n",
    "assert count == 7\n",
    "for x in table:\n",
    "    print(x)"
   ]
  }
 ],
 "metadata": {
  "kernelspec": {
   "display_name": "Python 3",
   "language": "python",
   "name": "python3"
  },
  "language_info": {
   "codemirror_mode": {
    "name": "ipython",
    "version": 3
   },
   "file_extension": ".py",
   "mimetype": "text/x-python",
   "name": "python",
   "nbconvert_exporter": "python",
   "pygments_lexer": "ipython3",
   "version": "3.9.0"
  }
 },
 "nbformat": 4,
 "nbformat_minor": 4
}
