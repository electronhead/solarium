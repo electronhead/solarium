{
 "cells": [
  {
   "cell_type": "markdown",
   "metadata": {},
   "source": [
    "pip install matplotlib\n",
    "pip install pandas\n",
    "pip install geopy\n",
    "pip install ephem"
   ]
  },
  {
   "cell_type": "code",
   "execution_count": null,
   "metadata": {},
   "outputs": [],
   "source": [
    "import angles as a\n",
    "from datetime import date, time, datetime, timedelta\n",
    "import pandas as pd\n",
    "import itertools"
   ]
  },
  {
   "cell_type": "code",
   "execution_count": null,
   "metadata": {},
   "outputs": [],
   "source": [
    "o = a.observer()\n",
    "columns = ['date_time', 'date', 'time', 'altitude', 'azimuth', 'south', 'west']\n",
    "def slap(flea):\n",
    "    if flea == 1:\n",
    "        count, table = a.compute_table(o, date(2021,3,21),date(2021,9,21),time(5,0,0),time(21,0,0))\n",
    "        a.print_table(o, count, table)\n",
    "    if flea == 2:\n",
    "        args = [[34, 0, 25, 0],[68,180,25,0],[34, 90, 25, 90],[68,270,25,90],[34, 180, 25, 180],[68,0,25,180]]\n",
    "        print([a.compute_surface_incident_angle(*arg) for arg in args] == [9.0, 93.0, 9.0, 93.0, 9.0, 93.0])\n",
    "    if flea == 3:\n",
    "        angles = a.compute_angles_for_time_window(o, date(2020,6,21),date(2020,6,21),time(13,0,0),time(14,0,0),minutes=1)\n",
    "        data = pd.DataFrame(angles, columns=columns)\n",
    "        print(data.head(100))\n",
    "        print(data.size)\n",
    "    if flea == 4:\n",
    "        angles = a.compute_angles(o, datetime(2020,6,21,10), datetime(2020,6,21,14), minutes=5)\n",
    "        data = pd.DataFrame(angles, columns=columns)\n",
    "        print(data.head(100))\n",
    "    if flea == 5:\n",
    "        angles = a.compute_angles_for_time_window(o, date(2020,1,21),date(2020,1,21),time(13,0,0),time(14,0,0),minutes=1,incline=46)\n",
    "        data = pd.DataFrame(angles, columns=columns)\n",
    "        print(data[['south', 'west']].sum())\n",
    "  "
   ]
  },
  {
   "cell_type": "code",
   "execution_count": null,
   "metadata": {
    "tags": []
   },
   "outputs": [],
   "source": [
    "for flea in [1]:\n",
    "    print('+++++++++++++++++')\n",
    "    print('flea:', flea)\n",
    "    print('+++++++++++++++++')\n",
    "    slap(flea)"
   ]
  },
  {
   "cell_type": "code",
   "execution_count": null,
   "metadata": {},
   "outputs": [],
   "source": [
    "year = a.current_year()\n",
    "d1 = a.winter_solstice(year-1)\n",
    "d2 = a.winter_solstice(year)\n",
    "t1 = time(5,20,0)\n",
    "t2 = time(21,0,0)\n",
    "minutes = 5"
   ]
  },
  {
   "cell_type": "code",
   "execution_count": null,
   "metadata": {},
   "outputs": [],
   "source": [
    "angles = a.compute_angles_for_time_window(o, d1,d2,t1,t2,minutes=minutes,incline=25)\n",
    "data = pd.DataFrame(angles, columns=columns)\n",
    "data['total'] = data['south'] + .9 * data['west']\n",
    "data[['time','altitude']].plot(x='time')"
   ]
  },
  {
   "cell_type": "code",
   "execution_count": null,
   "metadata": {},
   "outputs": [],
   "source": [
    "angles = a.compute_angles_for_time_window(o, d1,d2,t1,t2,minutes=minutes,incline=45)\n",
    "data = pd.DataFrame(angles, columns=columns)\n",
    "data['total'] = data['south'] + .9 * data['west']\n",
    "print(data[['south', 'west', 'total']].sum())"
   ]
  },
  {
   "cell_type": "code",
   "execution_count": null,
   "metadata": {},
   "outputs": [],
   "source": [
    "angles = a.compute_angles_for_time_window(o, d1,d2,t1,t2,minutes=minutes,incline=65)\n",
    "data = pd.DataFrame(angles, columns=columns)\n",
    "data['total'] = data['south'] + .9 * data['west']\n",
    "print(data[['south', 'west', 'total']].sum())"
   ]
  },
  {
   "cell_type": "code",
   "execution_count": null,
   "metadata": {},
   "outputs": [],
   "source": [
    "dt = a.today()\n",
    "t1 = time(5,20,0)\n",
    "t2 = time(21,0,0)\n",
    "count, table = a.compute_table(o, dt, dt, t1, t2)\n",
    "assert count == 7\n",
    "for x in table:\n",
    "    print(x)"
   ]
  },
  {
   "cell_type": "code",
   "execution_count": null,
   "metadata": {},
   "outputs": [],
   "source": [
    "dt = a.vernal_equinox()\n",
    "t1 = time(5,20,0)\n",
    "t2 = time(21,0,0)\n",
    "count, table = a.compute_table(o, dt, dt, t1, t2)\n",
    "assert count == 7\n",
    "for x in table:\n",
    "    print(x)"
   ]
  },
  {
   "cell_type": "code",
   "execution_count": null,
   "metadata": {},
   "outputs": [],
   "source": [
    "dt = a.summer_solstice(a.current_year())\n",
    "dt = a.today()\n",
    "t1 = time(5,20,0)\n",
    "t2 = time(21,0,0)\n",
    "count, table = a.compute_table(o, dt, dt, t1, t2)\n",
    "assert count == 7\n",
    "for x in table:\n",
    "    print(x)"
   ]
  },
  {
   "cell_type": "code",
   "execution_count": null,
   "metadata": {},
   "outputs": [],
   "source": [
    "dt = a.autumnal_equinox()\n",
    "t1 = time(5,20,0)\n",
    "t2 = time(21,0,0)\n",
    "count, table = a.compute_table(o, dt, dt, t1, t2)\n",
    "assert count == 7\n",
    "for x in table:\n",
    "    print(x)"
   ]
  },
  {
   "cell_type": "code",
   "execution_count": null,
   "metadata": {},
   "outputs": [],
   "source": []
  }
 ],
 "metadata": {
  "kernelspec": {
   "display_name": "Python 3",
   "language": "python",
   "name": "python3"
  },
  "language_info": {
   "codemirror_mode": {
    "name": "ipython",
    "version": 3
   },
   "file_extension": ".py",
   "mimetype": "text/x-python",
   "name": "python",
   "nbconvert_exporter": "python",
   "pygments_lexer": "ipython3",
   "version": "3.9.0"
  }
 },
 "nbformat": 4,
 "nbformat_minor": 4
}
