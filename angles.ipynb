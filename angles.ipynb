{
 "metadata": {
  "language_info": {
   "codemirror_mode": {
    "name": "ipython",
    "version": 3
   },
   "file_extension": ".py",
   "mimetype": "text/x-python",
   "name": "python",
   "nbconvert_exporter": "python",
   "pygments_lexer": "ipython3",
   "version": "3.9.0-final"
  },
  "orig_nbformat": 2,
  "kernelspec": {
   "name": "python3",
   "display_name": "Python 3.9.0 64-bit ('venv')",
   "metadata": {
    "interpreter": {
     "hash": "5805e5439efdd5ed440110b1344968018dad9695b006f320f38bc1049a02c08a"
    }
   }
  }
 },
 "nbformat": 4,
 "nbformat_minor": 2,
 "cells": [
  {
   "cell_type": "code",
   "execution_count": null,
   "metadata": {},
   "outputs": [],
   "source": [
    "import angles as a\n",
    "from datetime import date, time, datetime, timedelta\n",
    "import pandas as pd\n",
    "import itertools"
   ]
  },
  {
   "cell_type": "code",
   "execution_count": null,
   "metadata": {},
   "outputs": [],
   "source": [
    "o = a.portland()\n",
    "columns = ['date_time', 'date', 'time', 'altitude', 'azimuth', 'south', 'west']\n",
    "def slap(flea):\n",
    "    if flea == 1:\n",
    "        count, table = a.compute_table(o, date(2020,3,21),date(2020,9,21),time(5,0,0),time(21,0,0))\n",
    "        a.print_table(o, count, table)\n",
    "    if flea == 2:\n",
    "        args = [[34, 0, 25, 0],[68,180,25,0],[34, 90, 25, 90],[68,270,25,90],[34, 180, 25, 180],[68,0,25,180]]\n",
    "        print([a.compute_surface_incident_angle(*arg) for arg in args] == [9.0, 93.0, 9.0, 93.0, 9.0, 93.0])\n",
    "    if flea == 3:\n",
    "        angles = a.compute_angles_for_time_window(o, date(2020,6,21),date(2020,6,21),time(13,0,0),time(14,0,0),minutes=1)\n",
    "        data = pd.DataFrame(angles, columns=columns)\n",
    "        print(data.head(100))\n",
    "        print(data.size)\n",
    "    if flea == 4:\n",
    "        angles = a.compute_angles(o, datetime(2020,6,21,10), datetime(2020,6,21,14), minutes=5)\n",
    "        data = pd.DataFrame(angles, columns=columns)\n",
    "        print(data.head(100))\n",
    "    if flea == 5:\n",
    "        angles = a.compute_angles_for_time_window(o, date(2020,1,21),date(2020,1,21),time(13,0,0),time(14,0,0),minutes=1,incline=46)\n",
    "        data = pd.DataFrame(angles, columns=columns)\n",
    "        print(data[['south', 'west']].sum())\n",
    "  "
   ]
  },
  {
   "cell_type": "code",
   "execution_count": null,
   "metadata": {},
   "outputs": [],
   "source": [
    "a.portland()"
   ]
  },
  {
   "cell_type": "code",
   "execution_count": null,
   "metadata": {
    "tags": []
   },
   "outputs": [],
   "source": [
    "for flea in [1]:\n",
    "    print('+++++++++++++++++')\n",
    "    print('flea:', flea)\n",
    "    print('+++++++++++++++++')\n",
    "    slap(flea)"
   ]
  },
  {
   "cell_type": "code",
   "execution_count": null,
   "metadata": {},
   "outputs": [],
   "source": [
    "d1,d2,t1,t2 = date(2020,2,1),date(2020,2,1),time(7,0,0),time(9,0,0)\n",
    "d1,d2,t1,t2 = date(2020,1,1),date(2020,12,31),time(5,0,0),time(21,0,0)\n",
    "d1,d2,t1,t2 = date(2020,6,21),date(2020,6,21),time(5,0,0),time(21,0,0)\n",
    "\n",
    "d1,d2,t1,t2 = date(2020,2,21),date(2020,2,21),time(5,0,0),time(21,0,0)\n",
    "\n",
    "minutes = 5"
   ]
  },
  {
   "cell_type": "code",
   "execution_count": null,
   "metadata": {},
   "outputs": [],
   "source": [
    "angles = a.compute_angles_for_time_window(o, d1,d2,t1,t2,minutes=minutes,incline=25)\n",
    "data = pd.DataFrame(angles, columns=columns)\n",
    "data['total'] = data['south'] + .9 * data['west']\n",
    "data[['time','altitude']].plot(x='time')"
   ]
  },
  {
   "cell_type": "code",
   "execution_count": null,
   "metadata": {},
   "outputs": [],
   "source": [
    "angles = a.compute_angles_for_time_window(o, d1,d2,t1,t2,minutes=minutes,incline=45)\n",
    "data = pd.DataFrame(angles, columns=columns)\n",
    "data['total'] = data['south'] + .9 * data['west']\n",
    "print(data[['south', 'west', 'total']].sum())"
   ]
  },
  {
   "cell_type": "code",
   "execution_count": null,
   "metadata": {},
   "outputs": [],
   "source": [
    "angles = a.compute_angles_for_time_window(o, d1,d2,t1,t2,minutes=minutes,incline=65)\n",
    "data = pd.DataFrame(angles, columns=columns)\n",
    "data['total'] = data['south'] + .9 * data['west']\n",
    "print(data[['south', 'west', 'total']].sum())"
   ]
  },
  {
   "cell_type": "code",
   "execution_count": null,
   "metadata": {},
   "outputs": [],
   "source": [
    "count, table = a.compute_table(o, date(2020,6,21),date(2020,6,21),time(5,0,0),time(21,0,0))"
   ]
  },
  {
   "cell_type": "code",
   "execution_count": null,
   "metadata": {},
   "outputs": [],
   "source": [
    "print(count)\n",
    "for x in table:\n",
    "    print(x)"
   ]
  }
 ]
}